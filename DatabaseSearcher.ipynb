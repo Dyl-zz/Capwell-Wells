{
 "cells": [
  {
   "cell_type": "code",
   "execution_count": 1,
   "id": "357e79ee-f12c-44ad-b2e0-3cfe12d5bc6b",
   "metadata": {},
   "outputs": [
    {
     "name": "stdin",
     "output_type": "stream",
     "text": [
      "Enter the number of companies you wish to get news for:  5\n",
      "Enter a keyword to search for:  Kansas\n"
     ]
    },
    {
     "name": "stdout",
     "output_type": "stream",
     "text": [
      "Results saved to operator_news_counts.csv\n",
      "                     Operator  Article Count\n",
      "0  CANADIAN NATURAL RESOURCES            105\n",
      "1                     CHEVRON             12\n",
      "2  DIVERSIFIED PRODUCTION LLC              1\n",
      "3              CENOVUS ENERGY              0\n",
      "4                 AERA ENERGY              0\n"
     ]
    }
   ],
   "source": [
    "import pandas as pd\n",
    "import requests\n",
    "\n",
    "data_path = 'National Wells Database.xlsx'\n",
    "operators_df = pd.read_excel(data_path, sheet_name='Sheet1')\n",
    "\n",
    "number_to_check = int(input(\"Enter the number of companies you wish to get news for: \"))\n",
    "largest_operators = operators_df.head(number_to_check)['Operator'].tolist()\n",
    "\n",
    "NEWS_API_KEY = '5581d8d29db643f6893fe91896b724ac'\n",
    "NEWS_API_URL = \"https://newsapi.org/v2/everything\"\n",
    "\n",
    "def get_news_count(keyword, operator):\n",
    "    # headers = {\"Ocp-Apim-Subscription-Key\": NEWS_API_KEY}\n",
    "    params = {\"q\": f\"{operator} AND {keyword}\", \"apiKey\": NEWS_API_KEY, 'language': 'en', 'sortBy': 'relevance'}\n",
    "    response = requests.get(NEWS_API_URL, params=params)\n",
    "    if response.status_code == 200:\n",
    "        data = response.json()\n",
    "        return data.get('totalResults')\n",
    "    else:\n",
    "        print(f\"Error fetching news for {operator}: {response.status_code}\")\n",
    "        return 0\n",
    "\n",
    "\n",
    "# User input for keyword\n",
    "keyword = input(\"Enter a keyword to search for: \")\n",
    "\n",
    "news_counts = {}\n",
    "for operator in largest_operators:\n",
    "    news_counts[operator] = get_news_count(keyword, operator)\n",
    "\n",
    "results_df = pd.DataFrame(list(news_counts.items()), columns=['Operator', 'Article Count'])\n",
    "results_df.sort_values(by='Article Count', ascending=False, inplace=True)\n",
    "\n",
    "output_path = 'operator_news_counts.csv'\n",
    "results_df.to_csv(output_path, index=False)\n",
    "print(f\"Results saved to {output_path}\")\n",
    "print(results_df)"
   ]
  },
  {
   "cell_type": "code",
   "execution_count": null,
   "id": "8e181524-3749-4fa3-a317-fd4b7bc35236",
   "metadata": {},
   "outputs": [],
   "source": []
  }
 ],
 "metadata": {
  "kernelspec": {
   "display_name": "Python 3 (ipykernel)",
   "language": "python",
   "name": "python3"
  },
  "language_info": {
   "codemirror_mode": {
    "name": "ipython",
    "version": 3
   },
   "file_extension": ".py",
   "mimetype": "text/x-python",
   "name": "python",
   "nbconvert_exporter": "python",
   "pygments_lexer": "ipython3",
   "version": "3.12.4"
  }
 },
 "nbformat": 4,
 "nbformat_minor": 5
}
