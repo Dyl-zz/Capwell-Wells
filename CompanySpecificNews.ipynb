{
 "cells": [
  {
   "cell_type": "code",
   "execution_count": 9,
   "id": "8b030e43-675d-4b90-b9ba-a6b6306b18cf",
   "metadata": {},
   "outputs": [
    {
     "name": "stdin",
     "output_type": "stream",
     "text": [
      "Enter the company you want to search for:  Chevron\n",
      "Enter the keyword(s) you want to filter by (comma-separated):  Permian Basin\n"
     ]
    },
    {
     "name": "stdout",
     "output_type": "stream",
     "text": [
      "\n",
      "Filtered Articles on Chevron :\n",
      "\n",
      "Article 1:\n",
      "Title: Chevron Cuts Permian Capex for 2025\n",
      "URL: https://oilprice.com/Latest-Energy-News/World-News/Chevron-Cuts-Permian-Capex-for-2025.html\n",
      "Description: Chevron has reduced the amount of capital expenditure it will allocate for its operations in the Permian Basin next year, the company said in an update. The company said it planned to spend between $4.5 billion and $5 billion on production in the Permian, “as…\n",
      "\n",
      "Article 2:\n",
      "Title: Chevron Cuts Permian Capex for 2025\n",
      "URL: https://biztoc.com/x/af354a14c48ed5a0\n",
      "Description: Chevron Cuts Permian Capex for 2025\n",
      " \n",
      "By Irina Slav of OilPrice.com\n",
      "Chevron has reduced the amount of capital expenditure it will allocate for its operations in the Permian Basin next year, the company said in an update.\n",
      "The company said it planned to spend b…\n",
      "\n"
     ]
    }
   ],
   "source": [
    "import requests\n",
    "import pandas as pd\n",
    "\n",
    "API_KEY = '5581d8d29db643f6893fe91896b724ac'\n",
    "BASE_URL = 'https://newsapi.org/v2/everything'\n",
    "\n",
    "# Prompt the user for company name and keyword(s)\n",
    "company = input(\"Enter the company you want to search for: \").strip()\n",
    "user_keywords = input(\"Enter the keyword(s) you want to filter by (comma-separated): \").strip()\n",
    "\n",
    "# Convert the comma-separated keywords into a list and strip extra spaces\n",
    "keywords = [kw.strip().lower() for kw in user_keywords.split(',') if kw.strip()]\n",
    "\n",
    "params = {\n",
    "    'q': company,  \n",
    "    'language': 'en',\n",
    "    'sortBy': 'relevance',\n",
    "    'apiKey': API_KEY,\n",
    "}\n",
    "\n",
    "def fetch_and_filter_articles():\n",
    "    try:\n",
    "        response = requests.get(BASE_URL, params=params)\n",
    "        response.raise_for_status()\n",
    "        articles = response.json().get('articles', [])\n",
    "        \n",
    "        filtered_articles = []\n",
    "        for article in articles:\n",
    "            # Combine content and description, convert to lowercase\n",
    "            content = (article.get('content', '') or '') + ' ' + (article.get('description', '') or '')\n",
    "            content = content.lower()\n",
    "            # Check if any of the provided keywords are in the content\n",
    "            if any(keyword in content for keyword in keywords):\n",
    "                filtered_articles.append(article)\n",
    "        \n",
    "        if filtered_articles:\n",
    "            print('\\nFiltered Articles on', company, \":\\n\")\n",
    "            for idx, article in enumerate(filtered_articles, 1):\n",
    "                print(f\"Article {idx}:\")\n",
    "                print(f\"Title: {article['title']}\")\n",
    "                print(f\"URL: {article['url']}\")\n",
    "                print(f\"Description: {article.get('description', 'No description available.')}\\n\")\n",
    "        else:\n",
    "            print(\"\\nNo articles found matching the specified keywords for this company.\")\n",
    "    \n",
    "    except requests.exceptions.RequestException as e:\n",
    "        print(f\"An error occurred: {e}\")\n",
    "\n",
    "fetch_and_filter_articles()\n"
   ]
  },
  {
   "cell_type": "code",
   "execution_count": null,
   "id": "e03312a3-16d9-49b2-8ba0-a022bdcd0461",
   "metadata": {},
   "outputs": [],
   "source": []
  }
 ],
 "metadata": {
  "kernelspec": {
   "display_name": "Python 3 (ipykernel)",
   "language": "python",
   "name": "python3"
  },
  "language_info": {
   "codemirror_mode": {
    "name": "ipython",
    "version": 3
   },
   "file_extension": ".py",
   "mimetype": "text/x-python",
   "name": "python",
   "nbconvert_exporter": "python",
   "pygments_lexer": "ipython3",
   "version": "3.12.4"
  }
 },
 "nbformat": 4,
 "nbformat_minor": 5
}
